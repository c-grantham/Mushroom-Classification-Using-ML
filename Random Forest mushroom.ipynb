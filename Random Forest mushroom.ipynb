{
 "cells": [
  {
   "cell_type": "code",
   "execution_count": 47,
   "id": "30c2a0b4-a9bb-4d71-b255-11e18d810784",
   "metadata": {},
   "outputs": [
    {
     "name": "stdout",
     "output_type": "stream",
     "text": [
      "Cross-Validation Accuracy Scores: [0.99508772 0.99649123 0.99578947 0.99684174 0.99660779]\n",
      "Mean Accuracy: 0.9961635894626026\n",
      "Confusion Matrix: [[ 7982    13]\n",
      " [   50 10276]]\n",
      "Accuracy: 0.9965613230718847\n"
     ]
    }
   ],
   "source": [
    "import numpy as np\n",
    "import pandas as pd\n",
    "from sklearn.compose import ColumnTransformer\n",
    "from sklearn.preprocessing import OneHotEncoder\n",
    "from sklearn.impute import SimpleImputer\n",
    "from sklearn.model_selection import train_test_split\n",
    "from sklearn.preprocessing import StandardScaler\n",
    "from sklearn.ensemble import RandomForestClassifier\n",
    "from sklearn.model_selection import GridSearchCV, cross_val_score\n",
    "from sklearn.metrics import confusion_matrix, accuracy_score\n",
    "\n",
    "# Load the dataset\n",
    "dataset = pd.read_csv('mushroom.csv')\n",
    "\n",
    "# Independent variables (all features except \"class\")\n",
    "X = dataset.iloc[:, 1:]\n",
    "\n",
    "# Dependent variable (just the poisonous/edible feature)\n",
    "Y = dataset.iloc[:, 0].values\n",
    "\n",
    "# Fill in missing values with the most frequent values for categorical data\n",
    "imputer = SimpleImputer(strategy='most_frequent')\n",
    "X = imputer.fit_transform(X)  \n",
    "\n",
    "# Apply OneHotEncoder to handle categorical data\n",
    "ct = ColumnTransformer(transformers=[('encoder', OneHotEncoder(), list(range(X.shape[1])))], remainder='passthrough')\n",
    "X = ct.fit_transform(X)\n",
    "\n",
    "# Split the dataset into training and testing sets (70/30)\n",
    "X_train, X_test, y_train, y_test = train_test_split(X, Y, test_size=0.3, random_state=0)\n",
    "\n",
    "# Scale features for comparability (using StandardScaler)\n",
    "sc = StandardScaler(with_mean=False)  # Keep sparse data sparse\n",
    "X_train = sc.fit_transform(X_train)  \n",
    "X_test = sc.transform(X_test)\n",
    "\n",
    "# Initialize a Random Forest classifier\n",
    "rf_classifier = RandomForestClassifier(criterion='entropy', n_estimators=200, max_depth=None, min_samples_split=5, min_samples_leaf=1, random_state=0)\n",
    "\n",
    "# Fit the model and find the best hyperparameters\n",
    "rf_classifier.fit(X_train, y_train)\n",
    "\n",
    "# Perform cross-validation\n",
    "cv_scores = cross_val_score(rf_classifier, X_train, y_train, cv=5, scoring='accuracy')\n",
    "\n",
    "# Make predictions on the test set with the best model\n",
    "y_pred = rf_classifier.predict(X_test)\n",
    "\n",
    "print(\"Cross-Validation Accuracy Scores:\", cv_scores)\n",
    "print(\"Mean Accuracy:\", cv_scores.mean())\n",
    "\n",
    "# Calculate confusion matrix, accuracy\n",
    "cm = confusion_matrix(y_test, y_pred)\n",
    "accuracy = accuracy_score(y_test, y_pred)\n",
    "\n",
    "print(\"Confusion Matrix:\", cm)\n",
    "print(\"Accuracy:\", accuracy)\n"
   ]
  },
  {
   "cell_type": "code",
   "execution_count": null,
   "id": "f42d2fab-5292-4917-8cf8-3d003bec2239",
   "metadata": {},
   "outputs": [],
   "source": []
  }
 ],
 "metadata": {
  "kernelspec": {
   "display_name": "Python 3 (ipykernel)",
   "language": "python",
   "name": "python3"
  },
  "language_info": {
   "codemirror_mode": {
    "name": "ipython",
    "version": 3
   },
   "file_extension": ".py",
   "mimetype": "text/x-python",
   "name": "python",
   "nbconvert_exporter": "python",
   "pygments_lexer": "ipython3",
   "version": "3.11.5"
  }
 },
 "nbformat": 4,
 "nbformat_minor": 5
}
